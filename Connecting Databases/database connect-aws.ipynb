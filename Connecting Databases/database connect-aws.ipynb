{
 "cells": [
  {
   "cell_type": "code",
   "execution_count": 1,
   "metadata": {},
   "outputs": [
    {
     "name": "stdout",
     "output_type": "stream",
     "text": [
      "Wohoo!! Connected to Database!! \n"
     ]
    }
   ],
   "source": [
    "import mysql.connector\n",
    "from mysql.connector import errorcode\n",
    "\n",
    "config = {\n",
    "  'user': 'manodhayan',\n",
    "  'password': 'Ambience^DB',\n",
    "  'host': 'hospsqldatabase.czbthbfxmuzs.ap-south-1.rds.amazonaws.com',\n",
    "  'database': 'hospsqldatabase',\n",
    "  'raise_on_warnings': True\n",
    "}\n",
    "'''Connect to the Database'''\n",
    "try:\n",
    "#     cnx = mysql.connector.connect(user='ambiencesqldb', password='Ambience^DB',\n",
    "#                               host=\"den1.mysql2.gear.host\",\n",
    "#                               database='ambiencesqldb')\n",
    "    #cnx=mysql.connector.connect(**config)\n",
    "    cnx=mysql.connector.MySQLConnection(**config)\n",
    "    print(\"Wohoo!! Connected to Database!! \")\n",
    "except mysql.connector.Error as err:\n",
    "    if err.errno == errorcode.ER_ACCESS_DENIED_ERROR:\n",
    "        print(\"Something is wrong with your user name or password\")\n",
    "    elif err.errno == errorcode.ER_BAD_DB_ERROR:\n",
    "        print(\"Database does not exist\")\n",
    "    else:\n",
    "        print(err)\n",
    "        \n",
    "cursor = cnx.cursor()\n",
    "#cnx.close()"
   ]
  },
  {
   "cell_type": "code",
   "execution_count": 3,
   "metadata": {},
   "outputs": [
    {
     "name": "stdout",
     "output_type": "stream",
     "text": [
      "Failed creating database: 1007 (HY000): Can't create database 'hospsqldatabase'; database exists\n",
      "Creating table hospital_A: OK\n"
     ]
    }
   ],
   "source": [
    "DB_NAME = 'hospsqldatabase'\n",
    "TABLES = {}\n",
    "TABLES['hospital_A'] = (\n",
    "    \"CREATE TABLE `hospital_A` (\"\n",
    "    \"  `Timestamp` TIMESTAMP NOT NULL,\"\n",
    "    \"  `Room` varchar(16) NOT NULL,\"\n",
    "    \"  `Temperature` int(11) NOT NULL,\"\n",
    "    \"  `Humidity` int(11) NOT NULL\"\n",
    "    \") ENGINE=InnoDB\")\n",
    "\n",
    "\n",
    "\n",
    "'''Create Database'''       \n",
    "def create_database(cursor):\n",
    "    try:\n",
    "        cursor.execute(\n",
    "            \"CREATE DATABASE {} DEFAULT CHARACTER SET 'utf8'\".format(DB_NAME))\n",
    "    except mysql.connector.Error as err:\n",
    "        print(\"Failed creating database: {}\".format(err))\n",
    "        exit(1)\n",
    "\n",
    "try:\n",
    "    cursor.execute(\"USE {}\".format(DB_NAME))\n",
    "except mysql.connector.Error as err:\n",
    "    print(\"Database {} does not exists.\".format(DB_NAME))\n",
    "    if err.errno == errorcode.ER_BAD_DB_ERROR:\n",
    "        create_database(cursor)\n",
    "        print(\"Database {} created successfully.\".format(DB_NAME))\n",
    "        cnx.database = DB_NAME\n",
    "    else:\n",
    "        print(err)\n",
    "        exit(1)\n",
    "\n",
    "create_database(cursor) #To create Database, if not exists\n",
    "cnx.database = DB_NAME\n",
    "\n",
    "for table_name in TABLES:\n",
    "    table_description = TABLES[table_name]\n",
    "    try:\n",
    "        print(\"Creating table {}: \".format(table_name), end='')\n",
    "        cursor.execute(table_description)\n",
    "    except mysql.connector.Error as err:\n",
    "        if err.errno == errorcode.ER_TABLE_EXISTS_ERROR:\n",
    "            print(\"already exists.\")\n",
    "        else:\n",
    "            print(err.msg)\n",
    "    else:\n",
    "        print(\"OK\")"
   ]
  },
  {
   "cell_type": "code",
   "execution_count": 24,
   "metadata": {},
   "outputs": [
    {
     "name": "stdout",
     "output_type": "stream",
     "text": [
      "Accumulated rows : 3916\n"
     ]
    }
   ],
   "source": [
    "## Get row count\n",
    "cursor = cnx.cursor()\n",
    "cursor.execute((\"SELECT * FROM hospital_A\"))\n",
    "count=0\n",
    "for data in cursor:\n",
    "    #print(\"{}\".format(data))\n",
    "    count+=1\n",
    "cnx.commit()\n",
    "cursor.close()\n",
    "print(\"Accumulated rows : {}\".format(count))"
   ]
  },
  {
   "cell_type": "code",
   "execution_count": 18,
   "metadata": {},
   "outputs": [
    {
     "ename": "NameError",
     "evalue": "name 'pyodbc' is not defined",
     "output_type": "error",
     "traceback": [
      "\u001b[1;31m---------------------------------------------------------------------------\u001b[0m",
      "\u001b[1;31mNameError\u001b[0m                                 Traceback (most recent call last)",
      "\u001b[1;32m<ipython-input-18-b34bbf45f208>\u001b[0m in \u001b[0;36m<module>\u001b[1;34m()\u001b[0m\n\u001b[1;32m----> 1\u001b[1;33m \u001b[0mpyodbc\u001b[0m\u001b[1;33m.\u001b[0m\u001b[0mdrivers\u001b[0m\u001b[1;33m(\u001b[0m\u001b[1;33m)\u001b[0m\u001b[1;33m\u001b[0m\u001b[0m\n\u001b[0m\u001b[0;32m      2\u001b[0m \u001b[1;32mimport\u001b[0m \u001b[0mpymysql\u001b[0m\u001b[1;33m\u001b[0m\u001b[0m\n\u001b[0;32m      3\u001b[0m \u001b[1;32mimport\u001b[0m \u001b[0msys\u001b[0m\u001b[1;33m\u001b[0m\u001b[0m\n\u001b[0;32m      4\u001b[0m \u001b[0mrds_host\u001b[0m  \u001b[1;33m=\u001b[0m \u001b[1;34m\"hospambience.czbthbfxmuzs.ap-south-1.rds.amazonaws.com\"\u001b[0m\u001b[1;33m\u001b[0m\u001b[0m\n\u001b[0;32m      5\u001b[0m \u001b[0mname\u001b[0m \u001b[1;33m=\u001b[0m \u001b[1;34m\"manodhayan\"\u001b[0m\u001b[1;33m\u001b[0m\u001b[0m\n",
      "\u001b[1;31mNameError\u001b[0m: name 'pyodbc' is not defined"
     ]
    }
   ],
   "source": [
    "pyodbc.drivers()\n",
    "import pymysql\n",
    "import sys\n",
    "rds_host  = \"hospambience.czbthbfxmuzs.ap-south-1.rds.amazonaws.com\"\n",
    "name = \"manodhayan\"\n",
    "password = \"Ambience^DB\"\n",
    "db_name = \"hospambience\"\n",
    "conn = pymysql.connect(rds_host, user=name, passwd=password, db=db_name, connect_timeout=5,port=1433)\n"
   ]
  },
  {
   "cell_type": "code",
   "execution_count": 14,
   "metadata": {},
   "outputs": [
    {
     "name": "stdout",
     "output_type": "stream",
     "text": [
      "Help on function Connect in module pymysql:\n",
      "\n",
      "Connect(*args, **kwargs)\n",
      "    Connect to the database; see connections.Connection.__init__() for\n",
      "    more information.\n",
      "\n"
     ]
    }
   ],
   "source": []
  },
  {
   "cell_type": "code",
   "execution_count": null,
   "metadata": {},
   "outputs": [],
   "source": []
  }
 ],
 "metadata": {
  "kernelspec": {
   "display_name": "Python 3",
   "language": "python",
   "name": "python3"
  },
  "language_info": {
   "codemirror_mode": {
    "name": "ipython",
    "version": 3
   },
   "file_extension": ".py",
   "mimetype": "text/x-python",
   "name": "python",
   "nbconvert_exporter": "python",
   "pygments_lexer": "ipython3",
   "version": "3.6.4"
  }
 },
 "nbformat": 4,
 "nbformat_minor": 2
}
