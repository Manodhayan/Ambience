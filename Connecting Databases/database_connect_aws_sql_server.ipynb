{
 "cells": [
  {
   "cell_type": "code",
   "execution_count": 71,
   "metadata": {},
   "outputs": [
    {
     "name": "stdout",
     "output_type": "stream",
     "text": [
      "Successfully connected to Database Instance :)\n"
     ]
    }
   ],
   "source": [
    "import pyodbc\n",
    "\n",
    "'''Connect to the Database'''\n",
    "try:\n",
    "    cnx=pyodbc.connect(\"Driver={SQL Server};server=hospsqlserverdatabase.czbthbfxmuzs.ap-south-1.rds.amazonaws.com,1433;database=hospsqlserverdatabase;uid=manodhayan;pwd=amazonMano98\",\n",
    "                      autocommit=True)\n",
    "    print(\"Successfully connected to Database Instance :)\")\n",
    "\n",
    "except:\n",
    "    print(\"Error connecting to Database :(\")\n",
    "        \n",
    "cursor = cnx.cursor()\n",
    "\n",
    "DB_NAME = 'hospsqlserverdatabase'\n",
    "# TABLES = {}\n",
    "TABLES['hospital_A'] = (\n",
    "    \"CREATE TABLE hospital_A (\"\n",
    "    \"  datetime TIMESTAMP NOT NULL,\"\n",
    "    \"  Room varchar(16) NOT NULL,\"\n",
    "    \"  Temperature integer NOT NULL,\"\n",
    "    \"  Humidity integer NOT NULL\"\n",
    "    \")\")\n",
    "\n",
    "        \n",
    "# cursor.execute(\"USE {}\".format(DB_NAME))\n",
    "# cursor.execute(TABLES['hospital_A'])\n",
    "\n"
   ]
  },
  {
   "cell_type": "code",
   "execution_count": 72,
   "metadata": {},
   "outputs": [
    {
     "data": {
      "text/plain": [
       "<pyodbc.Cursor at 0x1dfe1c89eb8>"
      ]
     },
     "execution_count": 72,
     "metadata": {},
     "output_type": "execute_result"
    }
   ],
   "source": [
    "cursor.execute(\"DROP TABLE hospital_A\")\n",
    "TABLES = {}\n",
    "TABLES['hospital_A'] = (\n",
    "    \"CREATE TABLE hospital_A (\"\n",
    "    \"  Timestamp DATETIME NOT NULL,\"\n",
    "    \"  Room varchar(16) NOT NULL,\"\n",
    "    \"  Temperature integer NOT NULL,\"\n",
    "    \"  Humidity integer NOT NULL\"\n",
    "    \")\")\n",
    "cursor.execute(\"USE {}\".format(DB_NAME))\n",
    "cursor.execute(TABLES['hospital_A'])\n"
   ]
  },
  {
   "cell_type": "code",
   "execution_count": 62,
   "metadata": {},
   "outputs": [
    {
     "data": {
      "text/plain": [
       "<pyodbc.Cursor at 0x1dfe1c89e40>"
      ]
     },
     "execution_count": 62,
     "metadata": {},
     "output_type": "execute_result"
    }
   ],
   "source": []
  },
  {
   "cell_type": "code",
   "execution_count": 74,
   "metadata": {},
   "outputs": [
    {
     "data": {
      "text/plain": [
       "<pyodbc.Cursor at 0x1dfe1c89eb8>"
      ]
     },
     "execution_count": 74,
     "metadata": {},
     "output_type": "execute_result"
    }
   ],
   "source": [
    "from datetime import datetime\n",
    "time=datetime.now()\n",
    "#print(query, query_data)\n",
    "cursor.execute(\"INSERT INTO hospital_A(Timestamp, Room, Temperature, Humidity) VALUES(?, ?,?, ?)\", ((time,'ICU',23,60)))"
   ]
  },
  {
   "cell_type": "code",
   "execution_count": 13,
   "metadata": {},
   "outputs": [],
   "source": [
    "cur=cursor.execute(\"SELECT * FROM hospital_A\")\n",
    "\n",
    "for c in cur:\n",
    "    print(c)"
   ]
  },
  {
   "cell_type": "code",
   "execution_count": 47,
   "metadata": {},
   "outputs": [
    {
     "data": {
      "text/plain": [
       "datetime.datetime(2018, 10, 18, 4, 7, 21)"
      ]
     },
     "execution_count": 47,
     "metadata": {},
     "output_type": "execute_result"
    }
   ],
   "source": [
    "datetime.strptime(datetime.now().strftime(\"%Y-%m-%d %H:%M:%S\"),\"%Y-%m-%d %H:%M:%S\")"
   ]
  },
  {
   "cell_type": "code",
   "execution_count": 59,
   "metadata": {},
   "outputs": [
    {
     "ename": "ProgrammingError",
     "evalue": "Attempt to use a closed connection.",
     "output_type": "error",
     "traceback": [
      "\u001b[1;31m---------------------------------------------------------------------------\u001b[0m",
      "\u001b[1;31mProgrammingError\u001b[0m                          Traceback (most recent call last)",
      "\u001b[1;32m<ipython-input-59-c3d85b3b305a>\u001b[0m in \u001b[0;36m<module>\u001b[1;34m()\u001b[0m\n\u001b[1;32m----> 1\u001b[1;33m \u001b[0mcnx\u001b[0m\u001b[1;33m.\u001b[0m\u001b[0mclose\u001b[0m\u001b[1;33m(\u001b[0m\u001b[1;33m)\u001b[0m\u001b[1;33m\u001b[0m\u001b[0m\n\u001b[0m",
      "\u001b[1;31mProgrammingError\u001b[0m: Attempt to use a closed connection."
     ]
    }
   ],
   "source": [
    "cnx.close()"
   ]
  },
  {
   "cell_type": "code",
   "execution_count": 57,
   "metadata": {},
   "outputs": [
    {
     "data": {
      "text/plain": [
       "['SQL Server',\n",
       " 'SQL Server Native Client 11.0',\n",
       " 'ODBC Driver 13 for SQL Server',\n",
       " 'ODBC Driver 11 for SQL Server',\n",
       " 'Amazon Redshift (x64)',\n",
       " 'SQL Server Native Client RDA 11.0']"
      ]
     },
     "execution_count": 57,
     "metadata": {},
     "output_type": "execute_result"
    }
   ],
   "source": [
    "pyodbc.drivers()"
   ]
  },
  {
   "cell_type": "code",
   "execution_count": 1,
   "metadata": {},
   "outputs": [],
   "source": [
    "import pymssql\n",
    "server ='hospsqlserverdatabase.czbthbfxmuzs.ap-south-1.rds.amazonaws.com'\n",
    "user = 'manodhayan'\n",
    "password ='amazonMano98'\n",
    "DB_NAME = 'hospsqlserverdatabase'\n",
    "\n",
    "cnx=pymssql.connect(server, user, password,DB_NAME)\n",
    "cursor = cnx.cursor()\n"
   ]
  }
 ],
 "metadata": {
  "kernelspec": {
   "display_name": "Python 3",
   "language": "python",
   "name": "python3"
  },
  "language_info": {
   "codemirror_mode": {
    "name": "ipython",
    "version": 3
   },
   "file_extension": ".py",
   "mimetype": "text/x-python",
   "name": "python",
   "nbconvert_exporter": "python",
   "pygments_lexer": "ipython3",
   "version": "3.6.4"
  }
 },
 "nbformat": 4,
 "nbformat_minor": 2
}
