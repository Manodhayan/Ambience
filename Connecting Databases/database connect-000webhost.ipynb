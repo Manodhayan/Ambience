{
 "cells": [
  {
   "cell_type": "code",
   "execution_count": 12,
   "metadata": {},
   "outputs": [
    {
     "name": "stdout",
     "output_type": "stream",
     "text": [
      "2003: Can't connect to MySQL server on 'localhost:3306' (10061 No connection could be made because the target machine actively refused it)\n"
     ]
    },
    {
     "ename": "NameError",
     "evalue": "name 'cnx' is not defined",
     "output_type": "error",
     "traceback": [
      "\u001b[1;31m---------------------------------------------------------------------------\u001b[0m",
      "\u001b[1;31mNameError\u001b[0m                                 Traceback (most recent call last)",
      "\u001b[1;32m<ipython-input-12-81d1abf202d7>\u001b[0m in \u001b[0;36m<module>\u001b[1;34m()\u001b[0m\n\u001b[0;32m     34\u001b[0m         \u001b[0mprint\u001b[0m\u001b[1;33m(\u001b[0m\u001b[0merr\u001b[0m\u001b[1;33m)\u001b[0m\u001b[1;33m\u001b[0m\u001b[0m\n\u001b[0;32m     35\u001b[0m \u001b[1;33m\u001b[0m\u001b[0m\n\u001b[1;32m---> 36\u001b[1;33m \u001b[0mcursor\u001b[0m \u001b[1;33m=\u001b[0m \u001b[0mcnx\u001b[0m\u001b[1;33m.\u001b[0m\u001b[0mcursor\u001b[0m\u001b[1;33m(\u001b[0m\u001b[1;33m)\u001b[0m \u001b[1;31m###\u001b[0m\u001b[1;33m\u001b[0m\u001b[0m\n\u001b[0m\u001b[0;32m     37\u001b[0m \u001b[1;33m\u001b[0m\u001b[0m\n\u001b[0;32m     38\u001b[0m \u001b[1;31m# '''Create Database'''\u001b[0m\u001b[1;33m\u001b[0m\u001b[1;33m\u001b[0m\u001b[0m\n",
      "\u001b[1;31mNameError\u001b[0m: name 'cnx' is not defined"
     ]
    }
   ],
   "source": [
    "import mysql.connector\n",
    "from mysql.connector import errorcode\n",
    "\n",
    "config = {\n",
    "  'user': 'id7458780_manodhayan',\n",
    "  'password': 'Ambience^DB',\n",
    "  'host': 'localhost',\n",
    "  'database': 'id7458780_ambiencedatabase',\n",
    "  'raise_on_warnings': True\n",
    "}\n",
    "\n",
    "DB_NAME = 'ambiencesqldb'\n",
    "TABLES = {}\n",
    "TABLES['hospital_D'] = (\n",
    "    \"CREATE TABLE `hospital_D` (\"\n",
    "    \"  `Timestamp` TIMESTAMP NOT NULL,\"\n",
    "    \"  `Room` varchar(16) NOT NULL,\"\n",
    "    \"  `Temperature` int(11) NOT NULL,\"\n",
    "    \"  `Humidity` int(11) NOT NULL\"\n",
    "    \") ENGINE=InnoDB\")\n",
    "\n",
    "'''Connect to the Database'''\n",
    "try:\n",
    "    cnx = mysql.connector.connect(user='manodhayan', password='hellodata',\n",
    "                              host=\"localhost\",\n",
    "                              database='id7458780_ambiencedatabase')\n",
    "    cnx=mysql.connector.connect(**config)\n",
    "except mysql.connector.Error as err:\n",
    "    if err.errno == errorcode.ER_ACCESS_DENIED_ERROR:\n",
    "        print(\"Something is wrong with your user name or password\")\n",
    "    elif err.errno == errorcode.ER_BAD_DB_ERROR:\n",
    "        print(\"Database does not exist\")\n",
    "    else:\n",
    "        print(err)\n",
    "        \n",
    "cursor = cnx.cursor() ###\n",
    "\n",
    "# '''Create Database'''       \n",
    "# def create_database(cursor):\n",
    "#     try:\n",
    "#         cursor.execute(\n",
    "#             \"CREATE DATABASE {} DEFAULT CHARACTER SET 'utf8'\".format(DB_NAME))\n",
    "#     except mysql.connector.Error as err:\n",
    "#         print(\"Failed creating database: {}\".format(err))\n",
    "#         exit(1)\n",
    "\n",
    "# try:\n",
    "#     cursor.execute(\"USE {}\".format(DB_NAME))\n",
    "# except mysql.connector.Error as err:\n",
    "#     print(\"Database {} does not exists.\".format(DB_NAME))\n",
    "#     if err.errno == errorcode.ER_BAD_DB_ERROR:\n",
    "#         create_database(cursor)\n",
    "#         print(\"Database {} created successfully.\".format(DB_NAME))\n",
    "#         cnx.database = DB_NAME\n",
    "#     else:\n",
    "#         print(err)\n",
    "#         exit(1)\n",
    "\n",
    "# create_database(cursor) #To create Database, if not exists\n",
    "# cnx.database = DB_NAME\n",
    "\n",
    "# for table_name in TABLES:\n",
    "#     table_description = TABLES[table_name]\n",
    "#     try:\n",
    "#         print(\"Creating table {}: \".format(table_name), end='')\n",
    "#         cursor.execute(table_description)\n",
    "#     except mysql.connector.Error as err:\n",
    "#         if err.errno == errorcode.ER_TABLE_EXISTS_ERROR:\n",
    "#             print(\"already exists.\")\n",
    "#         else:\n",
    "#             print(err.msg)\n",
    "#     else:\n",
    "#         print(\"OK\")\n",
    "\n",
    "\n"
   ]
  },
  {
   "cell_type": "code",
   "execution_count": null,
   "metadata": {},
   "outputs": [],
   "source": []
  }
 ],
 "metadata": {
  "kernelspec": {
   "display_name": "Python 3",
   "language": "python",
   "name": "python3"
  },
  "language_info": {
   "codemirror_mode": {
    "name": "ipython",
    "version": 3
   },
   "file_extension": ".py",
   "mimetype": "text/x-python",
   "name": "python",
   "nbconvert_exporter": "python",
   "pygments_lexer": "ipython3",
   "version": "3.6.4"
  }
 },
 "nbformat": 4,
 "nbformat_minor": 2
}
