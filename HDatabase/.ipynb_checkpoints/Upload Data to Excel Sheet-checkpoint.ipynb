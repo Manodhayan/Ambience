{
 "cells": [
  {
   "cell_type": "code",
   "execution_count": 1,
   "metadata": {},
   "outputs": [
    {
     "name": "stdout",
     "output_type": "stream",
     "text": [
      "Received uplink from  lora_feather_4\n",
      "MSG(app_id='hospital_ambience_monitor', dev_id='lora_feather_4', hardware_serial='004B7B370F4C9F97', port=1, counter=83, payload_raw='CWAYnAQ=', payload_fields=MSG(celcius=24, device=4, moisture=63), metadata=MSG(time='2018-10-11T13:59:32.35608644Z', frequency=868.5, modulation='LORA', data_rate='SF9BW125', airtime=185344000, coding_rate='4/5', gateways=[MSG(gtw_id='eui-b827ebfefe5909d4', timestamp=3870373132, time='', channel=2, rssi=-63, snr=8.5, rf_chain=1)]))\n",
      "20 data(s) logged yet!\n",
      "[20, datetime.datetime(2018, 10, 11, 19, 29, 32, 714), 'Surgical Ward', 24, 63]\n",
      "[{'Timestamp': 1, 'Room_Name': 1, 'Temperature': 1, 'Humidity': 1, '': 1}, {'Timestamp': 1, 'Room_Name': 1, 'Temperature': 1, 'Humidity': 1, '': 1}, {'Timestamp': 1, 'Room_Name': 1, 'Temperature': 1, 'Humidity': 1, '': 1}, {'Timestamp': 1, 'Room_Name': 1, 'Temperature': 1, 'Humidity': 1, '': 1}, {'Timestamp': 1, 'Room_Name': 1, 'Temperature': 1, 'Humidity': 1, '': 1}, {'Timestamp': 1, 'Room_Name': 1, 'Temperature': 1, 'Humidity': 1, '': 1}, {'Timestamp': 1, 'Room_Name': 1, 'Temperature': 1, 'Humidity': 1, '': 1}, {'Timestamp': 1, 'Room_Name': 1, 'Temperature': 1, 'Humidity': 1, '': 1}, {'Timestamp': 'ICU', 'Room_Name': 23, 'Temperature': 61, 'Humidity': '', '': ''}, {'Timestamp': 'ICU', 'Room_Name': 23, 'Temperature': 61, 'Humidity': '', '': ''}, {'Timestamp': 'ICU', 'Room_Name': 23, 'Temperature': 61, 'Humidity': '', '': ''}, {'Timestamp': 'ICU', 'Room_Name': 23, 'Temperature': 61, 'Humidity': '', '': ''}, {'Timestamp': '', 'Room_Name': '', 'Temperature': '', 'Humidity': '', '': ''}, {'Timestamp': '', 'Room_Name': '', 'Temperature': '', 'Humidity': '', '': ''}, {'Timestamp': '', 'Room_Name': '', 'Temperature': '', 'Humidity': '', '': ''}, {'Timestamp': '', 'Room_Name': '', 'Temperature': '', 'Humidity': '', '': ''}, {'Timestamp': '', 'Room_Name': '', 'Temperature': '', 'Humidity': '', '': ''}, {'Timestamp': '', 'Room_Name': '', 'Temperature': '', 'Humidity': '', '': ''}, {'Timestamp': 'ICU', 'Room_Name': 23, 'Temperature': 61, 'Humidity': '', '': ''}]\n",
      "Received uplink from  lora_feather_3\n",
      "MSG(app_id='hospital_ambience_monitor', dev_id='lora_feather_3', hardware_serial='0065993E0B78D480', port=1, counter=83, payload_raw='CowSXAM=', payload_fields=MSG(celcius=27, device=3, moisture=47), metadata=MSG(time='2018-10-11T13:59:58.810157463Z', frequency=868.3, modulation='LORA', data_rate='SF9BW125', airtime=185344000, coding_rate='4/5', gateways=[MSG(gtw_id='eui-b827ebfefe5909d4', timestamp=3896829596, time='', channel=1, rssi=-55, snr=12.8, rf_chain=1)]))\n",
      "21 data(s) logged yet!\n",
      "[21, datetime.datetime(2018, 10, 11, 19, 29, 58, 308992), 'ICU', 27, 47]\n",
      "[{'Timestamp': 1, 'Room_Name': 1, 'Temperature': 1, 'Humidity': 1, '': 1}, {'Timestamp': 1, 'Room_Name': 1, 'Temperature': 1, 'Humidity': 1, '': 1}, {'Timestamp': 1, 'Room_Name': 1, 'Temperature': 1, 'Humidity': 1, '': 1}, {'Timestamp': 1, 'Room_Name': 1, 'Temperature': 1, 'Humidity': 1, '': 1}, {'Timestamp': 1, 'Room_Name': 1, 'Temperature': 1, 'Humidity': 1, '': 1}, {'Timestamp': 1, 'Room_Name': 1, 'Temperature': 1, 'Humidity': 1, '': 1}, {'Timestamp': 1, 'Room_Name': 1, 'Temperature': 1, 'Humidity': 1, '': 1}, {'Timestamp': 1, 'Room_Name': 1, 'Temperature': 1, 'Humidity': 1, '': 1}, {'Timestamp': 1, 'Room_Name': 1, 'Temperature': 1, 'Humidity': 1, '': 1}, {'Timestamp': 'ICU', 'Room_Name': 23, 'Temperature': 61, 'Humidity': '', '': ''}, {'Timestamp': 'ICU', 'Room_Name': 23, 'Temperature': 61, 'Humidity': '', '': ''}, {'Timestamp': 'ICU', 'Room_Name': 23, 'Temperature': 61, 'Humidity': '', '': ''}, {'Timestamp': 'ICU', 'Room_Name': 23, 'Temperature': 61, 'Humidity': '', '': ''}, {'Timestamp': '', 'Room_Name': '', 'Temperature': '', 'Humidity': '', '': ''}, {'Timestamp': '', 'Room_Name': '', 'Temperature': '', 'Humidity': '', '': ''}, {'Timestamp': '', 'Room_Name': '', 'Temperature': '', 'Humidity': '', '': ''}, {'Timestamp': '', 'Room_Name': '', 'Temperature': '', 'Humidity': '', '': ''}, {'Timestamp': '', 'Room_Name': '', 'Temperature': '', 'Humidity': '', '': ''}, {'Timestamp': '', 'Room_Name': '', 'Temperature': '', 'Humidity': '', '': ''}, {'Timestamp': 'ICU', 'Room_Name': 23, 'Temperature': 61, 'Humidity': '', '': ''}]\n"
     ]
    }
   ],
   "source": [
    "import ttn\n",
    "from datetime import datetime\n",
    "import time\n",
    "\n",
    "'''List of devices'''\n",
    "device_list={\n",
    "    'lora_feather_3': \"ICU\",\n",
    "    'lora_feather_4': \"Surgical Ward\",\n",
    "    'lora_feather_5': \"Emergency Ward\",\n",
    "    'lora_feature_6': \"Maternity Ward\"\n",
    "            }\n",
    "\n",
    "'''ttn Object Creation'''\n",
    "app_id = \"hospital_ambience_monitor\"\n",
    "access_key = \"ttn-account-v2.L5teJm-Cr8-5gQWUNZMjCcTJgXfAG-_5MmowwEgqyFY\"\n",
    "handler = ttn.HandlerClient(app_id, access_key)\n",
    "\n",
    "\n",
    "'''GSheet Object Creation'''\n",
    "import gspread\n",
    "from oauth2client.service_account import ServiceAccountCredentials\n",
    "\n",
    "# use creds to create a client to interact with the Google Drive API\n",
    "scope = ['https://spreadsheets.google.com/feeds',\n",
    "         'https://www.googleapis.com/auth/drive']\n",
    "creds = ServiceAccountCredentials.from_json_keyfile_name('client_secret.json', scope)\n",
    "sheet_client = gspread.authorize(creds)\n",
    "try:\n",
    "    sheet= sheet_client.open(\"Database\").sheet1 # Open Excel Sheet\n",
    "except:\n",
    "    print(\"Error opening file\")\n",
    "\n",
    "def uplink_callback(msg, client):\n",
    "    print(\"Received uplink from \", msg.dev_id)\n",
    "    print(msg)\n",
    "    \n",
    "        \n",
    "    \n",
    "    # Extract and print all of the values\n",
    "    list_of_hashes = sheet.get_all_records()\n",
    "    data_count=1 # Excluding headers\n",
    "    for record in sheet.get_all_records():\n",
    "        data_count+=1\n",
    "        \n",
    "    print(\"{} data(s) logged yet!\".format(data_count))\n",
    "    #print([data_count,datetime.now(),device_list[msg.dev_id],msg.payload_fields.celcius,msg.payload_fields.moisture])\n",
    "    try:\n",
    "        sheet.insert_row([data_count,datetime.now(),device_list[msg.dev_id],msg.payload_fields.celcius,msg.payload_fields.moisture], data_count+1)\n",
    "    except:\n",
    "        print(\"Error writing to database\")\n",
    "    #print(list_of_hashes)\n",
    "\n",
    "data_handler = handler.data()\n",
    "data_handler.set_uplink_callback(uplink_callback)\n",
    "data_handler.connect()"
   ]
  },
  {
   "cell_type": "code",
   "execution_count": 3,
   "metadata": {},
   "outputs": [],
   "source": [
    "sheet.insert_row([1,1,1,1,1],1)\n",
    "list_of_hashes = sheet.get_all_records()"
   ]
  },
  {
   "cell_type": "code",
   "execution_count": 4,
   "metadata": {},
   "outputs": [
    {
     "data": {
      "text/plain": [
       "[{'1': 'Humidity'}]"
      ]
     },
     "execution_count": 4,
     "metadata": {},
     "output_type": "execute_result"
    }
   ],
   "source": []
  },
  {
   "cell_type": "code",
   "execution_count": 53,
   "metadata": {},
   "outputs": [
    {
     "data": {
      "text/plain": [
       "{'lora_feather_3': 'ICU',\n",
       " 'lora_feather_4': 'Surgical Ward',\n",
       " 'lora_feather_5': 'Emergency Ward',\n",
       " 'lora_feature_6': 'Maternity Ward'}"
      ]
     },
     "execution_count": 53,
     "metadata": {},
     "output_type": "execute_result"
    }
   ],
   "source": [
    "device_list"
   ]
  },
  {
   "cell_type": "code",
   "execution_count": 54,
   "metadata": {},
   "outputs": [
    {
     "data": {
      "text/plain": [
       "'ICU'"
      ]
     },
     "execution_count": 54,
     "metadata": {},
     "output_type": "execute_result"
    },
    {
     "name": "stdout",
     "output_type": "stream",
     "text": [
      "Received uplink from Received uplink from  lora_feature_6 lora_feature_6\n",
      "\n",
      "MSG(app_id='hospital_ambience_monitor', dev_id='lora_feature_6', hardware_serial='00A42CEEFD4DAC74', port=1, counter=10, payload_raw='CJgX1AY=', payload_fields=MSG(celcius=22, device=6, moisture=61), metadata=MSG(time='2018-10-11T12:41:51.274465722Z', frequency=868.1, modulation='LORA', data_rate='SF9BW125', airtime=185344000, coding_rate='4/5', gateways=[MSG(gtw_id='eui-b827ebfefe5909d4', timestamp=3504263444, time='', channel=0, rssi=-35, snr=11.5, rf_chain=1)]))\n",
      "Received uplink from  lora_feature_6\n",
      "MSG(app_id='hospital_ambience_monitor', dev_id='lora_feature_6', hardware_serial='00A42CEEFD4DAC74', port=1, counter=10, payload_raw='CJgX1AY=', payload_fields=MSG(celcius=22, device=6, moisture=61), metadata=MSG(time='2018-10-11T12:41:51.274465722Z', frequency=868.1, modulation='LORA', data_rate='SF9BW125', airtime=185344000, coding_rate='4/5', gateways=[MSG(gtw_id='eui-b827ebfefe5909d4', timestamp=3504263444, time='', channel=0, rssi=-35, snr=11.5, rf_chain=1)]))\n",
      "MSG(app_id='hospital_ambience_monitor', dev_id='lora_feature_6', hardware_serial='00A42CEEFD4DAC74', port=1, counter=10, payload_raw='CJgX1AY=', payload_fields=MSG(celcius=22, device=6, moisture=61), metadata=MSG(time='2018-10-11T12:41:51.274465722Z', frequency=868.1, modulation='LORA', data_rate='SF9BW125', airtime=185344000, coding_rate='4/5', gateways=[MSG(gtw_id='eui-b827ebfefe5909d4', timestamp=3504263444, time='', channel=0, rssi=-35, snr=11.5, rf_chain=1)]))\n",
      "Received uplink from  lora_feather_4\n",
      "MSG(app_id='hospital_ambience_monitor', dev_id='lora_feather_4', hardware_serial='004B7B370F4C9F97', port=1, counter=24, payload_raw='CPwXcAQ=', payload_fields=MSG(celcius=23, device=4, moisture=60), metadata=MSG(time='2018-10-11T12:41:57.405351396Z', frequency=868.5, modulation='LORA', data_rate='SF9BW125', airtime=185344000, coding_rate='4/5', gateways=[MSG(gtw_id='eui-b827ebfefe5909d4', timestamp=3510390852, time='', channel=2, rssi=-65, snr=7.8, rf_chain=1)]))\n",
      "Received uplink from  lora_feather_4\n",
      "MSG(app_id='hospital_ambience_monitor', dev_id='lora_feather_4', hardware_serial='004B7B370F4C9F97', port=1, counter=24, payload_raw='CPwXcAQ=', payload_fields=MSG(celcius=23, device=4, moisture=60), metadata=MSG(time='2018-10-11T12:41:57.405351396Z', frequency=868.5, modulation='LORA', data_rate='SF9BW125', airtime=185344000, coding_rate='4/5', gateways=[MSG(gtw_id='eui-b827ebfefe5909d4', timestamp=3510390852, time='', channel=2, rssi=-65, snr=7.8, rf_chain=1)]))\n",
      "Received uplink from  lora_feather_4\n",
      "MSG(app_id='hospital_ambience_monitor', dev_id='lora_feather_4', hardware_serial='004B7B370F4C9F97', port=1, counter=24, payload_raw='CPwXcAQ=', payload_fields=MSG(celcius=23, device=4, moisture=60), metadata=MSG(time='2018-10-11T12:41:57.405351396Z', frequency=868.5, modulation='LORA', data_rate='SF9BW125', airtime=185344000, coding_rate='4/5', gateways=[MSG(gtw_id='eui-b827ebfefe5909d4', timestamp=3510390852, time='', channel=2, rssi=-65, snr=7.8, rf_chain=1)]))\n",
      "Received uplink from Received uplink from  lora_feather_3\n",
      "MSG(app_id='hospital_ambience_monitor', dev_id='lora_feather_3', hardware_serial='0065993E0B78D480', port=1, counter=23, payload_raw='CigRMAM=', payload_fields=MSG(celcius=26, device=3, moisture=44), metadata=MSG(time='2018-10-11T12:42:25.226235546Z', frequency=868.1, modulation='LORA', data_rate='SF9BW125', airtime=185344000, coding_rate='4/5', gateways=[MSG(gtw_id='eui-b827ebfefe5909d4', timestamp=3538204276, time='', channel=0, rssi=-51, snr=11.2, rf_chain=1)]))\n",
      "Received uplink from  lora_feather_3\n",
      "MSG(app_id='hospital_ambience_monitor', dev_id='lora_feather_3', hardware_serial='0065993E0B78D480', port=1, counter=23, payload_raw='CigRMAM=', payload_fields=MSG(celcius=26, device=3, moisture=44), metadata=MSG(time='2018-10-11T12:42:25.226235546Z', frequency=868.1, modulation='LORA', data_rate='SF9BW125', airtime=185344000, coding_rate='4/5', gateways=[MSG(gtw_id='eui-b827ebfefe5909d4', timestamp=3538204276, time='', channel=0, rssi=-51, snr=11.2, rf_chain=1)]))\n",
      " lora_feather_3\n",
      "MSG(app_id='hospital_ambience_monitor', dev_id='lora_feather_3', hardware_serial='0065993E0B78D480', port=1, counter=23, payload_raw='CigRMAM=', payload_fields=MSG(celcius=26, device=3, moisture=44), metadata=MSG(time='2018-10-11T12:42:25.226235546Z', frequency=868.1, modulation='LORA', data_rate='SF9BW125', airtime=185344000, coding_rate='4/5', gateways=[MSG(gtw_id='eui-b827ebfefe5909d4', timestamp=3538204276, time='', channel=0, rssi=-51, snr=11.2, rf_chain=1)]))\n",
      "Received uplink from Received uplink from  lora_feather_5\n",
      "MSG(app_id='hospital_ambience_monitor', dev_id='lora_feather_5', hardware_serial='00BD3DC40A53C55E', port=1, counter=32, payload_raw='CigWqAU=', payload_fields=MSG(celcius=26, device=5, moisture=58), metadata=MSG(time='2018-10-11T12:42:32.331533238Z', frequency=868.3, modulation='LORA', data_rate='SF9BW125', airtime=185344000, coding_rate='4/5', gateways=[MSG(gtw_id='eui-b827ebfefe5909d4', timestamp=3545314284, time='', channel=1, rssi=-23, snr=11.2, rf_chain=1)]))\n",
      " lora_feather_5\n",
      "MSG(app_id='hospital_ambience_monitor', dev_id='lora_feather_5', hardware_serial='00BD3DC40A53C55E', port=1, counter=32, payload_raw='CigWqAU=', payload_fields=MSG(celcius=26, device=5, moisture=58), metadata=MSG(time='2018-10-11T12:42:32.331533238Z', frequency=868.3, modulation='LORA', data_rate='SF9BW125', airtime=185344000, coding_rate='4/5', gateways=[MSG(gtw_id='eui-b827ebfefe5909d4', timestamp=3545314284, time='', channel=1, rssi=-23, snr=11.2, rf_chain=1)]))\n",
      "Received uplink from  lora_feather_5\n",
      "MSG(app_id='hospital_ambience_monitor', dev_id='lora_feather_5', hardware_serial='00BD3DC40A53C55E', port=1, counter=32, payload_raw='CigWqAU=', payload_fields=MSG(celcius=26, device=5, moisture=58), metadata=MSG(time='2018-10-11T12:42:32.331533238Z', frequency=868.3, modulation='LORA', data_rate='SF9BW125', airtime=185344000, coding_rate='4/5', gateways=[MSG(gtw_id='eui-b827ebfefe5909d4', timestamp=3545314284, time='', channel=1, rssi=-23, snr=11.2, rf_chain=1)]))\n",
      "Received uplink from Received uplink from  lora_feature_6\n",
      "MSG(app_id='hospital_ambience_monitor', dev_id='lora_feature_6', hardware_serial='00A42CEEFD4DAC74', port=1, counter=11, payload_raw='CJgYOAY=', payload_fields=MSG(celcius=22, device=6, moisture=62), metadata=MSG(time='2018-10-11T12:43:06.173309251Z', frequency=867.3, modulation='LORA', data_rate='SF9BW125', airtime=185344000, coding_rate='4/5', gateways=[MSG(gtw_id='eui-b827ebfefe5909d4', timestamp=3579147284, time='', channel=4, rssi=-25, snr=12.2, rf_chain=0)]))\n",
      " lora_feature_6\n",
      "MSG(app_id='hospital_ambience_monitor', dev_id='lora_feature_6', hardware_serial='00A42CEEFD4DAC74', port=1, counter=11, payload_raw='CJgYOAY=', payload_fields=MSG(celcius=22, device=6, moisture=62), metadata=MSG(time='2018-10-11T12:43:06.173309251Z', frequency=867.3, modulation='LORA', data_rate='SF9BW125', airtime=185344000, coding_rate='4/5', gateways=[MSG(gtw_id='eui-b827ebfefe5909d4', timestamp=3579147284, time='', channel=4, rssi=-25, snr=12.2, rf_chain=0)]))\n",
      "Received uplink from  lora_feature_6\n",
      "MSG(app_id='hospital_ambience_monitor', dev_id='lora_feature_6', hardware_serial='00A42CEEFD4DAC74', port=1, counter=11, payload_raw='CJgYOAY=', payload_fields=MSG(celcius=22, device=6, moisture=62), metadata=MSG(time='2018-10-11T12:43:06.173309251Z', frequency=867.3, modulation='LORA', data_rate='SF9BW125', airtime=185344000, coding_rate='4/5', gateways=[MSG(gtw_id='eui-b827ebfefe5909d4', timestamp=3579147284, time='', channel=4, rssi=-25, snr=12.2, rf_chain=0)]))\n",
      "Received uplink from Received uplink from  lora_feather_4\n",
      "Received uplink from MSG(app_id='hospital_ambience_monitor', dev_id='lora_feather_4', hardware_serial='004B7B370F4C9F97', port=1, counter=25, payload_raw='CPwX1AQ=', payload_fields=MSG(celcius=23, device=4, moisture=61), metadata=MSG(time='2018-10-11T12:43:17.845323574Z', frequency=868.1, modulation='LORA', data_rate='SF9BW125', airtime=185344000, coding_rate='4/5', gateways=[MSG(gtw_id='eui-b827ebfefe5909d4', timestamp=3590831804, time='', channel=0, rssi=-69, snr=12, rf_chain=1)]))\n",
      " lora_feather_4\n",
      "MSG(app_id='hospital_ambience_monitor', dev_id='lora_feather_4', hardware_serial='004B7B370F4C9F97', port=1, counter=25, payload_raw='CPwX1AQ=', payload_fields=MSG(celcius=23, device=4, moisture=61), metadata=MSG(time='2018-10-11T12:43:17.845323574Z', frequency=868.1, modulation='LORA', data_rate='SF9BW125', airtime=185344000, coding_rate='4/5', gateways=[MSG(gtw_id='eui-b827ebfefe5909d4', timestamp=3590831804, time='', channel=0, rssi=-69, snr=12, rf_chain=1)]))\n",
      " lora_feather_4\n",
      "MSG(app_id='hospital_ambience_monitor', dev_id='lora_feather_4', hardware_serial='004B7B370F4C9F97', port=1, counter=25, payload_raw='CPwX1AQ=', payload_fields=MSG(celcius=23, device=4, moisture=61), metadata=MSG(time='2018-10-11T12:43:17.845323574Z', frequency=868.1, modulation='LORA', data_rate='SF9BW125', airtime=185344000, coding_rate='4/5', gateways=[MSG(gtw_id='eui-b827ebfefe5909d4', timestamp=3590831804, time='', channel=0, rssi=-69, snr=12, rf_chain=1)]))\n"
     ]
    },
    {
     "name": "stdout",
     "output_type": "stream",
     "text": [
      "Received uplink from  lora_feather_3\n",
      "MSG(app_id='hospital_ambience_monitor', dev_id='lora_feather_3', hardware_serial='0065993E0B78D480', port=1, counter=24, payload_raw='CigRMAM=', payload_fields=MSG(celcius=26, device=3, moisture=44), metadata=MSG(time='2018-10-11T12:43:44.309300066Z', frequency=868.3, modulation='LORA', data_rate='SF9BW125', airtime=185344000, coding_rate='4/5', gateways=[MSG(gtw_id='eui-b827ebfefe5909d4', timestamp=3617287452, time='', channel=1, rssi=-51, snr=12.5, rf_chain=1)]))Received uplink from Received uplink from  lora_feather_3\n",
      "MSG(app_id='hospital_ambience_monitor', dev_id='lora_feather_3', hardware_serial='0065993E0B78D480', port=1, counter=24, payload_raw='CigRMAM=', payload_fields=MSG(celcius=26, device=3, moisture=44), metadata=MSG(time='2018-10-11T12:43:44.309300066Z', frequency=868.3, modulation='LORA', data_rate='SF9BW125', airtime=185344000, coding_rate='4/5', gateways=[MSG(gtw_id='eui-b827ebfefe5909d4', timestamp=3617287452, time='', channel=1, rssi=-51, snr=12.5, rf_chain=1)]))\n",
      "\n",
      " lora_feather_3\n",
      "MSG(app_id='hospital_ambience_monitor', dev_id='lora_feather_3', hardware_serial='0065993E0B78D480', port=1, counter=24, payload_raw='CigRMAM=', payload_fields=MSG(celcius=26, device=3, moisture=44), metadata=MSG(time='2018-10-11T12:43:44.309300066Z', frequency=868.3, modulation='LORA', data_rate='SF9BW125', airtime=185344000, coding_rate='4/5', gateways=[MSG(gtw_id='eui-b827ebfefe5909d4', timestamp=3617287452, time='', channel=1, rssi=-51, snr=12.5, rf_chain=1)]))\n",
      "Received uplink from  lora_feather_5\n",
      "MSG(app_id='hospital_ambience_monitor', dev_id='lora_feather_5', hardware_serial='00BD3DC40A53C55E', port=1, counter=33, payload_raw='CigXDAU=', payload_fields=MSG(celcius=26, device=5, moisture=59), metadata=MSG(time='2018-10-11T12:43:46.814365451Z', frequency=867.7, modulation='LORA', data_rate='SF9BW125', airtime=185344000, coding_rate='4/5', gateways=[MSG(gtw_id='eui-b827ebfefe5909d4', timestamp=3619793716, time='', channel=6, rssi=-21, snr=11.5, rf_chain=0)]))\n",
      "Received uplink from  lora_feather_5\n",
      "MSG(app_id='hospital_ambience_monitor', dev_id='lora_feather_5', hardware_serial='00BD3DC40A53C55E', port=1, counter=33, payload_raw='CigXDAU=', payload_fields=MSG(celcius=26, device=5, moisture=59), metadata=MSG(time='2018-10-11T12:43:46.814365451Z', frequency=867.7, modulation='LORA', data_rate='SF9BW125', airtime=185344000, coding_rate='4/5', gateways=[MSG(gtw_id='eui-b827ebfefe5909d4', timestamp=3619793716, time='', channel=6, rssi=-21, snr=11.5, rf_chain=0)]))\n",
      "Received uplink from  lora_feather_5\n",
      "MSG(app_id='hospital_ambience_monitor', dev_id='lora_feather_5', hardware_serial='00BD3DC40A53C55E', port=1, counter=33, payload_raw='CigXDAU=', payload_fields=MSG(celcius=26, device=5, moisture=59), metadata=MSG(time='2018-10-11T12:43:46.814365451Z', frequency=867.7, modulation='LORA', data_rate='SF9BW125', airtime=185344000, coding_rate='4/5', gateways=[MSG(gtw_id='eui-b827ebfefe5909d4', timestamp=3619793716, time='', channel=6, rssi=-21, snr=11.5, rf_chain=0)]))\n",
      "Received uplink from  lora_feature_6\n",
      "MSG(app_id='hospital_ambience_monitor', dev_id='lora_feature_6', hardware_serial='00A42CEEFD4DAC74', port=1, counter=12, payload_raw='CPwX1AY=', payload_fields=MSG(celcius=23, device=6, moisture=61), metadata=MSG(time='2018-10-11T12:44:13.584909686Z', frequency=868.3, modulation='LORA', data_rate='SF9BW125', airtime=185344000, coding_rate='4/5', gateways=[MSG(gtw_id='eui-b827ebfefe5909d4', timestamp=3646565044, time='', channel=1, rssi=-23, snr=12.8, rf_chain=1)]))\n",
      "Received uplink from  lora_feature_6\n",
      "MSG(app_id='hospital_ambience_monitor', dev_id='lora_feature_6', hardware_serial='00A42CEEFD4DAC74', port=1, counter=12, payload_raw='CPwX1AY=', payload_fields=MSG(celcius=23, device=6, moisture=61), metadata=MSG(time='2018-10-11T12:44:13.584909686Z', frequency=868.3, modulation='LORA', data_rate='SF9BW125', airtime=185344000, coding_rate='4/5', gateways=[MSG(gtw_id='eui-b827ebfefe5909d4', timestamp=3646565044, time='', channel=1, rssi=-23, snr=12.8, rf_chain=1)]))\n",
      "Received uplink from  lora_feature_6\n",
      "MSG(app_id='hospital_ambience_monitor', dev_id='lora_feature_6', hardware_serial='00A42CEEFD4DAC74', port=1, counter=12, payload_raw='CPwX1AY=', payload_fields=MSG(celcius=23, device=6, moisture=61), metadata=MSG(time='2018-10-11T12:44:13.584909686Z', frequency=868.3, modulation='LORA', data_rate='SF9BW125', airtime=185344000, coding_rate='4/5', gateways=[MSG(gtw_id='eui-b827ebfefe5909d4', timestamp=3646565044, time='', channel=1, rssi=-23, snr=12.8, rf_chain=1)]))\n",
      "Received uplink from Received uplink from  lora_feather_4\n",
      "MSG(app_id='hospital_ambience_monitor', dev_id='lora_feather_4', hardware_serial='004B7B370F4C9F97', port=1, counter=26, payload_raw='CPwX1AQ=', payload_fields=MSG(celcius=23, device=4, moisture=61), metadata=MSG(time='2018-10-11T12:44:38.288897301Z', frequency=868.3, modulation='LORA', data_rate='SF9BW125', airtime=185344000, coding_rate='4/5', gateways=[MSG(gtw_id='eui-b827ebfefe5909d4', timestamp=3671272868, time='', channel=1, rssi=-65, snr=11, rf_chain=1)]))\n",
      " Received uplink from  lora_feather_4\n",
      "MSG(app_id='hospital_ambience_monitor', dev_id='lora_feather_4', hardware_serial='004B7B370F4C9F97', port=1, counter=26, payload_raw='CPwX1AQ=', payload_fields=MSG(celcius=23, device=4, moisture=61), metadata=MSG(time='2018-10-11T12:44:38.288897301Z', frequency=868.3, modulation='LORA', data_rate='SF9BW125', airtime=185344000, coding_rate='4/5', gateways=[MSG(gtw_id='eui-b827ebfefe5909d4', timestamp=3671272868, time='', channel=1, rssi=-65, snr=11, rf_chain=1)]))\n",
      "lora_feather_4\n",
      "MSG(app_id='hospital_ambience_monitor', dev_id='lora_feather_4', hardware_serial='004B7B370F4C9F97', port=1, counter=26, payload_raw='CPwX1AQ=', payload_fields=MSG(celcius=23, device=4, moisture=61), metadata=MSG(time='2018-10-11T12:44:38.288897301Z', frequency=868.3, modulation='LORA', data_rate='SF9BW125', airtime=185344000, coding_rate='4/5', gateways=[MSG(gtw_id='eui-b827ebfefe5909d4', timestamp=3671272868, time='', channel=1, rssi=-65, snr=11, rf_chain=1)]))\n",
      "Received uplink from Received uplink from  lora_feather_5 lora_feather_5\n",
      "\n",
      "MSG(app_id='hospital_ambience_monitor', dev_id='lora_feather_5', hardware_serial='00BD3DC40A53C55E', port=1, counter=34, payload_raw='CigXDAU=', payload_fields=MSG(celcius=26, device=5, moisture=59), metadata=MSG(time='2018-10-11T12:44:56.147549248Z', frequency=868.5, modulation='LORA', data_rate='SF9BW125', airtime=185344000, coding_rate='4/5', gateways=[MSG(gtw_id='eui-b827ebfefe5909d4', timestamp=3689130084, time='', channel=2, rssi=-21, snr=9, rf_chain=1)]))\n",
      "MSG(app_id='hospital_ambience_monitor', dev_id='lora_feather_5', hardware_serial='00BD3DC40A53C55E', port=1, counter=34, payload_raw='CigXDAU=', payload_fields=MSG(celcius=26, device=5, moisture=59), metadata=MSG(time='2018-10-11T12:44:56.147549248Z', frequency=868.5, modulation='LORA', data_rate='SF9BW125', airtime=185344000, coding_rate='4/5', gateways=[MSG(gtw_id='eui-b827ebfefe5909d4', timestamp=3689130084, time='', channel=2, rssi=-21, snr=9, rf_chain=1)]))\n",
      "Received uplink from  lora_feather_5\n",
      "MSG(app_id='hospital_ambience_monitor', dev_id='lora_feather_5', hardware_serial='00BD3DC40A53C55E', port=1, counter=34, payload_raw='CigXDAU=', payload_fields=MSG(celcius=26, device=5, moisture=59), metadata=MSG(time='2018-10-11T12:44:56.147549248Z', frequency=868.5, modulation='LORA', data_rate='SF9BW125', airtime=185344000, coding_rate='4/5', gateways=[MSG(gtw_id='eui-b827ebfefe5909d4', timestamp=3689130084, time='', channel=2, rssi=-21, snr=9, rf_chain=1)]))\n",
      "Received uplink from Received uplink from  lora_feather_3\n",
      "MSG(app_id='hospital_ambience_monitor', dev_id='lora_feather_3', hardware_serial='0065993E0B78D480', port=1, counter=25, payload_raw='CigRMAM=', payload_fields=MSG(celcius=26, device=3, moisture=44), metadata=MSG(time='2018-10-11T12:45:03.390509011Z', frequency=868.5, modulation='LORA', data_rate='SF9BW125', airtime=185344000, coding_rate='4/5', gateways=[MSG(gtw_id='eui-b827ebfefe5909d4', timestamp=3696373956, time='', channel=2, rssi=-51, snr=8, rf_chain=1)]))\n",
      " lora_feather_3\n",
      "MSG(app_id='hospital_ambience_monitor', dev_id='lora_feather_3', hardware_serial='0065993E0B78D480', port=1, counter=25, payload_raw='CigRMAM=', payload_fields=MSG(celcius=26, device=3, moisture=44), metadata=MSG(time='2018-10-11T12:45:03.390509011Z', frequency=868.5, modulation='LORA', data_rate='SF9BW125', airtime=185344000, coding_rate='4/5', gateways=[MSG(gtw_id='eui-b827ebfefe5909d4', timestamp=3696373956, time='', channel=2, rssi=-51, snr=8, rf_chain=1)]))\n",
      "Received uplink from  lora_feather_3\n",
      "MSG(app_id='hospital_ambience_monitor', dev_id='lora_feather_3', hardware_serial='0065993E0B78D480', port=1, counter=25, payload_raw='CigRMAM=', payload_fields=MSG(celcius=26, device=3, moisture=44), metadata=MSG(time='2018-10-11T12:45:03.390509011Z', frequency=868.5, modulation='LORA', data_rate='SF9BW125', airtime=185344000, coding_rate='4/5', gateways=[MSG(gtw_id='eui-b827ebfefe5909d4', timestamp=3696373956, time='', channel=2, rssi=-51, snr=8, rf_chain=1)]))\n"
     ]
    },
    {
     "name": "stdout",
     "output_type": "stream",
     "text": [
      "Received uplink from Received uplink from  lora_feature_6\n",
      "MSG(app_id='hospital_ambience_monitor', dev_id='lora_feature_6', hardware_serial='00A42CEEFD4DAC74', port=1, counter=13, payload_raw='CJgYOAY=', payload_fields=MSG(celcius=22, device=6, moisture=62), metadata=MSG(time='2018-10-11T12:45:33.980671726Z', frequency=868.5, modulation='LORA', data_rate='SF9BW125', airtime=185344000, coding_rate='4/5', gateways=[MSG(gtw_id='eui-b827ebfefe5909d4', timestamp=3726957676, time='', channel=2, rssi=-27, snr=8, rf_chain=1)]))\n",
      " lora_feature_6\n",
      "MSG(app_id='hospital_ambience_monitor', dev_id='lora_feature_6', hardware_serial='00A42CEEFD4DAC74', port=1, counter=13, payload_raw='CJgYOAY=', payload_fields=MSG(celcius=22, device=6, moisture=62), metadata=MSG(time='2018-10-11T12:45:33.980671726Z', frequency=868.5, modulation='LORA', data_rate='SF9BW125', airtime=185344000, coding_rate='4/5', gateways=[MSG(gtw_id='eui-b827ebfefe5909d4', timestamp=3726957676, time='', channel=2, rssi=-27, snr=8, rf_chain=1)]))\n",
      "Received uplink from  lora_feature_6\n",
      "MSG(app_id='hospital_ambience_monitor', dev_id='lora_feature_6', hardware_serial='00A42CEEFD4DAC74', port=1, counter=13, payload_raw='CJgYOAY=', payload_fields=MSG(celcius=22, device=6, moisture=62), metadata=MSG(time='2018-10-11T12:45:33.980671726Z', frequency=868.5, modulation='LORA', data_rate='SF9BW125', airtime=185344000, coding_rate='4/5', gateways=[MSG(gtw_id='eui-b827ebfefe5909d4', timestamp=3726957676, time='', channel=2, rssi=-27, snr=8, rf_chain=1)]))\n",
      "Received uplink from  lora_feather_4\n",
      "MSG(app_id='hospital_ambience_monitor', dev_id='lora_feather_4', hardware_serial='004B7B370F4C9F97', port=1, counter=27, payload_raw='CPwX1AQ=', payload_fields=MSG(celcius=23, device=4, moisture=61), metadata=MSG(time='2018-10-11T12:45:58.729420807Z', frequency=868.5, modulation='LORA', data_rate='SF9BW125', airtime=185344000, coding_rate='4/5', gateways=[MSG(gtw_id='eui-b827ebfefe5909d4', timestamp=3751716468, time='', channel=2, rssi=-69, snr=9, rf_chain=1)]))\n",
      "Received uplink from Received uplink from  lora_feather_4\n",
      "MSG(app_id='hospital_ambience_monitor', dev_id='lora_feather_4', hardware_serial='004B7B370F4C9F97', port=1, counter=27, payload_raw='CPwX1AQ=', payload_fields=MSG(celcius=23, device=4, moisture=61), metadata=MSG(time='2018-10-11T12:45:58.729420807Z', frequency=868.5, modulation='LORA', data_rate='SF9BW125', airtime=185344000, coding_rate='4/5', gateways=[MSG(gtw_id='eui-b827ebfefe5909d4', timestamp=3751716468, time='', channel=2, rssi=-69, snr=9, rf_chain=1)]))\n",
      " lora_feather_4\n",
      "MSG(app_id='hospital_ambience_monitor', dev_id='lora_feather_4', hardware_serial='004B7B370F4C9F97', port=1, counter=27, payload_raw='CPwX1AQ=', payload_fields=MSG(celcius=23, device=4, moisture=61), metadata=MSG(time='2018-10-11T12:45:58.729420807Z', frequency=868.5, modulation='LORA', data_rate='SF9BW125', airtime=185344000, coding_rate='4/5', gateways=[MSG(gtw_id='eui-b827ebfefe5909d4', timestamp=3751716468, time='', channel=2, rssi=-69, snr=9, rf_chain=1)]))\n",
      "Received uplink from  lora_feather_5\n",
      "MSG(app_id='hospital_ambience_monitor', dev_id='lora_feather_5', hardware_serial='00BD3DC40A53C55E', port=1, counter=35, payload_raw='CigXDAU=', payload_fields=MSG(celcius=26, device=5, moisture=59), metadata=MSG(time='2018-10-11T12:46:17.304182207Z', frequency=868.1, modulation='LORA', data_rate='SF9BW125', airtime=185344000, coding_rate='4/5', gateways=[MSG(gtw_id='eui-b827ebfefe5909d4', timestamp=3770289844, time='', channel=0, rssi=-23, snr=12.2, rf_chain=1)]))\n",
      "Received uplink from  lora_feather_5\n",
      "MSG(app_id='hospital_ambience_monitor', dev_id='lora_feather_5', hardware_serial='00BD3DC40A53C55E', port=1, counter=35, payload_raw='CigXDAU=', payload_fields=MSG(celcius=26, device=5, moisture=59), metadata=MSG(time='2018-10-11T12:46:17.304182207Z', frequency=868.1, modulation='LORA', data_rate='SF9BW125', airtime=185344000, coding_rate='4/5', gateways=[MSG(gtw_id='eui-b827ebfefe5909d4', timestamp=3770289844, time='', channel=0, rssi=-23, snr=12.2, rf_chain=1)]))\n",
      "Received uplink from  lora_feather_5\n",
      "MSG(app_id='hospital_ambience_monitor', dev_id='lora_feather_5', hardware_serial='00BD3DC40A53C55E', port=1, counter=35, payload_raw='CigXDAU=', payload_fields=MSG(celcius=26, device=5, moisture=59), metadata=MSG(time='2018-10-11T12:46:17.304182207Z', frequency=868.1, modulation='LORA', data_rate='SF9BW125', airtime=185344000, coding_rate='4/5', gateways=[MSG(gtw_id='eui-b827ebfefe5909d4', timestamp=3770289844, time='', channel=0, rssi=-23, snr=12.2, rf_chain=1)]))\n",
      "Received uplink from  lora_feather_3\n",
      "MSG(app_id='hospital_ambience_monitor', dev_id='lora_feather_3', hardware_serial='0065993E0B78D480', port=1, counter=26, payload_raw='CigRMAM=', payload_fields=MSG(celcius=26, device=3, moisture=44), metadata=MSG(time='2018-10-11T12:46:22.481819149Z', frequency=868.1, modulation='LORA', data_rate='SF9BW125', airtime=185344000, coding_rate='4/5', gateways=[MSG(gtw_id='eui-b827ebfefe5909d4', timestamp=3775463660, time='', channel=0, rssi=-61, snr=12.8, rf_chain=1)]))\n",
      "Received uplink from  lora_feather_3\n",
      "MSG(app_id='hospital_ambience_monitor', dev_id='lora_feather_3', hardware_serial='0065993E0B78D480', port=1, counter=26, payload_raw='CigRMAM=', payload_fields=MSG(celcius=26, device=3, moisture=44), metadata=MSG(time='2018-10-11T12:46:22.481819149Z', frequency=868.1, modulation='LORA', data_rate='SF9BW125', airtime=185344000, coding_rate='4/5', gateways=[MSG(gtw_id='eui-b827ebfefe5909d4', timestamp=3775463660, time='', channel=0, rssi=-61, snr=12.8, rf_chain=1)]))\n",
      "Received uplink from  lora_feather_3\n",
      "MSG(app_id='hospital_ambience_monitor', dev_id='lora_feather_3', hardware_serial='0065993E0B78D480', port=1, counter=26, payload_raw='CigRMAM=', payload_fields=MSG(celcius=26, device=3, moisture=44), metadata=MSG(time='2018-10-11T12:46:22.481819149Z', frequency=868.1, modulation='LORA', data_rate='SF9BW125', airtime=185344000, coding_rate='4/5', gateways=[MSG(gtw_id='eui-b827ebfefe5909d4', timestamp=3775463660, time='', channel=0, rssi=-61, snr=12.8, rf_chain=1)]))\n",
      "Received uplink from  lora_feature_6\n",
      "MSG(app_id='hospital_ambience_monitor', dev_id='lora_feature_6', hardware_serial='00A42CEEFD4DAC74', port=1, counter=14, payload_raw='CJgYOAY=', payload_fields=MSG(celcius=22, device=6, moisture=62), metadata=MSG(time='2018-10-11T12:46:54.470310395Z', frequency=868.1, modulation='LORA', data_rate='SF9BW125', airtime=185344000, coding_rate='4/5', gateways=[MSG(gtw_id='eui-b827ebfefe5909d4', timestamp=3807353444, time='', channel=0, rssi=-24, snr=11.2, rf_chain=1)]))\n",
      "Received uplink from  lora_feature_6\n",
      "MSG(app_id='hospital_ambience_monitor', dev_id='lora_feature_6', hardware_serial='00A42CEEFD4DAC74', port=1, counter=14, payload_raw='CJgYOAY=', payload_fields=MSG(celcius=22, device=6, moisture=62), metadata=MSG(time='2018-10-11T12:46:54.470310395Z', frequency=868.1, modulation='LORA', data_rate='SF9BW125', airtime=185344000, coding_rate='4/5', gateways=[MSG(gtw_id='eui-b827ebfefe5909d4', timestamp=3807353444, time='', channel=0, rssi=-24, snr=11.2, rf_chain=1)]))\n",
      "Received uplink from  lora_feature_6\n",
      "MSG(app_id='hospital_ambience_monitor', dev_id='lora_feature_6', hardware_serial='00A42CEEFD4DAC74', port=1, counter=14, payload_raw='CJgYOAY=', payload_fields=MSG(celcius=22, device=6, moisture=62), metadata=MSG(time='2018-10-11T12:46:54.470310395Z', frequency=868.1, modulation='LORA', data_rate='SF9BW125', airtime=185344000, coding_rate='4/5', gateways=[MSG(gtw_id='eui-b827ebfefe5909d4', timestamp=3807353444, time='', channel=0, rssi=-24, snr=11.2, rf_chain=1)]))\n",
      "Received uplink from Received uplink from  lora_feather_4\n",
      "MSG(app_id='hospital_ambience_monitor', dev_id='lora_feather_4', hardware_serial='004B7B370F4C9F97', port=1, counter=28, payload_raw='CPwX1AQ=', payload_fields=MSG(celcius=23, device=4, moisture=61), metadata=MSG(time='2018-10-11T12:47:19.172448711Z', frequency=868.1, modulation='LORA', data_rate='SF9BW125', airtime=185344000, coding_rate='4/5', gateways=[MSG(gtw_id='eui-b827ebfefe5909d4', timestamp=3832158404, time='', channel=0, rssi=-71, snr=9.8, rf_chain=1)]))\n",
      "Received uplink from  lora_feather_4\n",
      "MSG(app_id='hospital_ambience_monitor', dev_id='lora_feather_4', hardware_serial='004B7B370F4C9F97', port=1, counter=28, payload_raw='CPwX1AQ=', payload_fields=MSG(celcius=23, device=4, moisture=61), metadata=MSG(time='2018-10-11T12:47:19.172448711Z', frequency=868.1, modulation='LORA', data_rate='SF9BW125', airtime=185344000, coding_rate='4/5', gateways=[MSG(gtw_id='eui-b827ebfefe5909d4', timestamp=3832158404, time='', channel=0, rssi=-71, snr=9.8, rf_chain=1)]))\n",
      " lora_feather_4\n",
      "MSG(app_id='hospital_ambience_monitor', dev_id='lora_feather_4', hardware_serial='004B7B370F4C9F97', port=1, counter=28, payload_raw='CPwX1AQ=', payload_fields=MSG(celcius=23, device=4, moisture=61), metadata=MSG(time='2018-10-11T12:47:19.172448711Z', frequency=868.1, modulation='LORA', data_rate='SF9BW125', airtime=185344000, coding_rate='4/5', gateways=[MSG(gtw_id='eui-b827ebfefe5909d4', timestamp=3832158404, time='', channel=0, rssi=-71, snr=9.8, rf_chain=1)]))\n"
     ]
    },
    {
     "name": "stdout",
     "output_type": "stream",
     "text": [
      "Received uplink from  lora_feather_5\n",
      "MSG(app_id='hospital_ambience_monitor', dev_id='lora_feather_5', hardware_serial='00BD3DC40A53C55E', port=1, counter=36, payload_raw='CigXDAU=', payload_fields=MSG(celcius=26, device=5, moisture=59), metadata=MSG(time='2018-10-11T12:47:38.479082651Z', frequency=868.3, modulation='LORA', data_rate='SF9BW125', airtime=185344000, coding_rate='4/5', gateways=[MSG(gtw_id='eui-b827ebfefe5909d4', timestamp=3851445700, time='', channel=1, rssi=-18, snr=9.8, rf_chain=1)]))\n",
      "Received uplink from  lora_feather_5\n",
      "MSG(app_id='hospital_ambience_monitor', dev_id='lora_feather_5', hardware_serial='00BD3DC40A53C55E', port=1, counter=36, payload_raw='CigXDAU=', payload_fields=MSG(celcius=26, device=5, moisture=59), metadata=MSG(time='2018-10-11T12:47:38.479082651Z', frequency=868.3, modulation='LORA', data_rate='SF9BW125', airtime=185344000, coding_rate='4/5', gateways=[MSG(gtw_id='eui-b827ebfefe5909d4', timestamp=3851445700, time='', channel=1, rssi=-18, snr=9.8, rf_chain=1)]))\n",
      "Received uplink from  lora_feather_5\n",
      "MSG(app_id='hospital_ambience_monitor', dev_id='lora_feather_5', hardware_serial='00BD3DC40A53C55E', port=1, counter=36, payload_raw='CigXDAU=', payload_fields=MSG(celcius=26, device=5, moisture=59), metadata=MSG(time='2018-10-11T12:47:38.479082651Z', frequency=868.3, modulation='LORA', data_rate='SF9BW125', airtime=185344000, coding_rate='4/5', gateways=[MSG(gtw_id='eui-b827ebfefe5909d4', timestamp=3851445700, time='', channel=1, rssi=-18, snr=9.8, rf_chain=1)]))\n",
      "Received uplink from Received uplink from  lora_feather_3\n",
      "MSG(app_id='hospital_ambience_monitor', dev_id='lora_feather_3', hardware_serial='0065993E0B78D480', port=1, counter=27, payload_raw='CigRlAM=', payload_fields=MSG(celcius=26, device=3, moisture=45), metadata=MSG(time='2018-10-11T12:47:41.573635786Z', frequency=868.3, modulation='LORA', data_rate='SF9BW125', airtime=185344000, coding_rate='4/5', gateways=[MSG(gtw_id='eui-b827ebfefe5909d4', timestamp=3854552356, time='', channel=1, rssi=-61, snr=10.2, rf_chain=1)]))\n",
      "Received uplink from  lora_feather_3\n",
      "MSG(app_id='hospital_ambience_monitor', dev_id='lora_feather_3', hardware_serial='0065993E0B78D480', port=1, counter=27, payload_raw='CigRlAM=', payload_fields=MSG(celcius=26, device=3, moisture=45), metadata=MSG(time='2018-10-11T12:47:41.573635786Z', frequency=868.3, modulation='LORA', data_rate='SF9BW125', airtime=185344000, coding_rate='4/5', gateways=[MSG(gtw_id='eui-b827ebfefe5909d4', timestamp=3854552356, time='', channel=1, rssi=-61, snr=10.2, rf_chain=1)]))\n",
      " lora_feather_3\n",
      "MSG(app_id='hospital_ambience_monitor', dev_id='lora_feather_3', hardware_serial='0065993E0B78D480', port=1, counter=27, payload_raw='CigRlAM=', payload_fields=MSG(celcius=26, device=3, moisture=45), metadata=MSG(time='2018-10-11T12:47:41.573635786Z', frequency=868.3, modulation='LORA', data_rate='SF9BW125', airtime=185344000, coding_rate='4/5', gateways=[MSG(gtw_id='eui-b827ebfefe5909d4', timestamp=3854552356, time='', channel=1, rssi=-61, snr=10.2, rf_chain=1)]))\n",
      "Received uplink from  lora_feature_6\n",
      "MSG(app_id='hospital_ambience_monitor', dev_id='lora_feature_6', hardware_serial='00A42CEEFD4DAC74', port=1, counter=15, payload_raw='CPwX1AY=', payload_fields=MSG(celcius=23, device=6, moisture=61), metadata=MSG(time='2018-10-11T12:48:14.764098913Z', frequency=868.3, modulation='LORA', data_rate='SF9BW125', airtime=185344000, coding_rate='4/5', gateways=[MSG(gtw_id='eui-b827ebfefe5909d4', timestamp=3887750348, time='', channel=1, rssi=-29, snr=12.5, rf_chain=1)]))\n",
      "Received uplink from  lora_feature_6\n",
      "MSG(app_id='hospital_ambience_monitor', dev_id='lora_feature_6', hardware_serial='00A42CEEFD4DAC74', port=1, counter=15, payload_raw='CPwX1AY=', payload_fields=MSG(celcius=23, device=6, moisture=61), metadata=MSG(time='2018-10-11T12:48:14.764098913Z', frequency=868.3, modulation='LORA', data_rate='SF9BW125', airtime=185344000, coding_rate='4/5', gateways=[MSG(gtw_id='eui-b827ebfefe5909d4', timestamp=3887750348, time='', channel=1, rssi=-29, snr=12.5, rf_chain=1)]))\n",
      "Received uplink from  lora_feature_6\n",
      "MSG(app_id='hospital_ambience_monitor', dev_id='lora_feature_6', hardware_serial='00A42CEEFD4DAC74', port=1, counter=15, payload_raw='CPwX1AY=', payload_fields=MSG(celcius=23, device=6, moisture=61), metadata=MSG(time='2018-10-11T12:48:14.764098913Z', frequency=868.3, modulation='LORA', data_rate='SF9BW125', airtime=185344000, coding_rate='4/5', gateways=[MSG(gtw_id='eui-b827ebfefe5909d4', timestamp=3887750348, time='', channel=1, rssi=-29, snr=12.5, rf_chain=1)]))\n",
      "Received uplink from  lora_feather_4\n",
      "MSG(app_id='hospital_ambience_monitor', dev_id='lora_feather_4', hardware_serial='004B7B370F4C9F97', port=1, counter=29, payload_raw='CPwX1AQ=', payload_fields=MSG(celcius=23, device=4, moisture=61), metadata=MSG(time='2018-10-11T12:48:39.615208915Z', frequency=868.3, modulation='LORA', data_rate='SF9BW125', airtime=185344000, coding_rate='4/5', gateways=[MSG(gtw_id='eui-b827ebfefe5909d4', timestamp=3912601740, time='', channel=1, rssi=-66, snr=10, rf_chain=1)]))\n",
      "Received uplink from  lora_feather_4\n",
      "MSG(app_id='hospital_ambience_monitor', dev_id='lora_feather_4', hardware_serial='004B7B370F4C9F97', port=1, counter=29, payload_raw='CPwX1AQ=', payload_fields=MSG(celcius=23, device=4, moisture=61), metadata=MSG(time='2018-10-11T12:48:39.615208915Z', frequency=868.3, modulation='LORA', data_rate='SF9BW125', airtime=185344000, coding_rate='4/5', gateways=[MSG(gtw_id='eui-b827ebfefe5909d4', timestamp=3912601740, time='', channel=1, rssi=-66, snr=10, rf_chain=1)]))\n",
      "Received uplink from  lora_feather_4\n",
      "MSG(app_id='hospital_ambience_monitor', dev_id='lora_feather_4', hardware_serial='004B7B370F4C9F97', port=1, counter=29, payload_raw='CPwX1AQ=', payload_fields=MSG(celcius=23, device=4, moisture=61), metadata=MSG(time='2018-10-11T12:48:39.615208915Z', frequency=868.3, modulation='LORA', data_rate='SF9BW125', airtime=185344000, coding_rate='4/5', gateways=[MSG(gtw_id='eui-b827ebfefe5909d4', timestamp=3912601740, time='', channel=1, rssi=-66, snr=10, rf_chain=1)]))\n",
      "Received uplink from Received uplink from  lora_feather_5\n",
      "MSG(app_id='hospital_ambience_monitor', dev_id='lora_feather_5', hardware_serial='00BD3DC40A53C55E', port=1, counter=37, payload_raw='CigXcAU=', payload_fields=MSG(celcius=26, device=5, moisture=60), metadata=MSG(time='2018-10-11T12:48:59.621409921Z', frequency=868.5, modulation='LORA', data_rate='SF9BW125', airtime=185344000, coding_rate='4/5', gateways=[MSG(gtw_id='eui-b827ebfefe5909d4', timestamp=3932603212, time='', channel=2, rssi=-17, snr=8.2, rf_chain=1)]))\n",
      " lora_feather_5\n",
      "MSG(app_id='hospital_ambience_monitor', dev_id='lora_feather_5', hardware_serial='00BD3DC40A53C55E', port=1, counter=37, payload_raw='CigXcAU=', payload_fields=MSG(celcius=26, device=5, moisture=60), metadata=MSG(time='2018-10-11T12:48:59.621409921Z', frequency=868.5, modulation='LORA', data_rate='SF9BW125', airtime=185344000, coding_rate='4/5', gateways=[MSG(gtw_id='eui-b827ebfefe5909d4', timestamp=3932603212, time='', channel=2, rssi=-17, snr=8.2, rf_chain=1)]))\n",
      "Received uplink from  lora_feather_5\n",
      "MSG(app_id='hospital_ambience_monitor', dev_id='lora_feather_5', hardware_serial='00BD3DC40A53C55E', port=1, counter=37, payload_raw='CigXcAU=', payload_fields=MSG(celcius=26, device=5, moisture=60), metadata=MSG(time='2018-10-11T12:48:59.621409921Z', frequency=868.5, modulation='LORA', data_rate='SF9BW125', airtime=185344000, coding_rate='4/5', gateways=[MSG(gtw_id='eui-b827ebfefe5909d4', timestamp=3932603212, time='', channel=2, rssi=-17, snr=8.2, rf_chain=1)]))\n",
      "Received uplink from  lora_feather_3\n",
      "MSG(app_id='hospital_ambience_monitor', dev_id='lora_feather_3', hardware_serial='0065993E0B78D480', port=1, counter=28, payload_raw='CigRlAM=', payload_fields=MSG(celcius=26, device=3, moisture=45), metadata=MSG(time='2018-10-11T12:49:00.72077878Z', frequency=868.5, modulation='LORA', data_rate='SF9BW125', airtime=185344000, coding_rate='4/5', gateways=[MSG(gtw_id='eui-b827ebfefe5909d4', timestamp=3933640220, time='', channel=2, rssi=-61, snr=9.2, rf_chain=1)]))\n",
      "Received uplink from  lora_feather_3\n",
      "MSG(app_id='hospital_ambience_monitor', dev_id='lora_feather_3', hardware_serial='0065993E0B78D480', port=1, counter=28, payload_raw='CigRlAM=', payload_fields=MSG(celcius=26, device=3, moisture=45), metadata=MSG(time='2018-10-11T12:49:00.72077878Z', frequency=868.5, modulation='LORA', data_rate='SF9BW125', airtime=185344000, coding_rate='4/5', gateways=[MSG(gtw_id='eui-b827ebfefe5909d4', timestamp=3933640220, time='', channel=2, rssi=-61, snr=9.2, rf_chain=1)]))\n",
      "Received uplink from  lora_feather_3\n",
      "MSG(app_id='hospital_ambience_monitor', dev_id='lora_feather_3', hardware_serial='0065993E0B78D480', port=1, counter=28, payload_raw='CigRlAM=', payload_fields=MSG(celcius=26, device=3, moisture=45), metadata=MSG(time='2018-10-11T12:49:00.72077878Z', frequency=868.5, modulation='LORA', data_rate='SF9BW125', airtime=185344000, coding_rate='4/5', gateways=[MSG(gtw_id='eui-b827ebfefe5909d4', timestamp=3933640220, time='', channel=2, rssi=-61, snr=9.2, rf_chain=1)]))\n"
     ]
    },
    {
     "name": "stdout",
     "output_type": "stream",
     "text": [
      "Received uplink from  lora_feature_6\n",
      "Received uplink from  lora_feature_6\n",
      "MSG(app_id='hospital_ambience_monitor', dev_id='lora_feature_6', hardware_serial='00A42CEEFD4DAC74', port=1, counter=16, payload_raw='CPwX1AY=', payload_fields=MSG(celcius=23, device=6, moisture=61), metadata=MSG(time='2018-10-11T12:49:35.159572253Z', frequency=868.5, modulation='LORA', data_rate='SF9BW125', airtime=185344000, coding_rate='4/5', gateways=[MSG(gtw_id='eui-b827ebfefe5909d4', timestamp=3968147956, time='', channel=2, rssi=-25, snr=8.8, rf_chain=1)]))\n",
      "Received uplink from  lora_feature_6\n",
      "MSG(app_id='hospital_ambience_monitor', dev_id='lora_feature_6', hardware_serial='00A42CEEFD4DAC74', port=1, counter=16, payload_raw='CPwX1AY=', payload_fields=MSG(celcius=23, device=6, moisture=61), metadata=MSG(time='2018-10-11T12:49:35.159572253Z', frequency=868.5, modulation='LORA', data_rate='SF9BW125', airtime=185344000, coding_rate='4/5', gateways=[MSG(gtw_id='eui-b827ebfefe5909d4', timestamp=3968147956, time='', channel=2, rssi=-25, snr=8.8, rf_chain=1)]))\n",
      "MSG(app_id='hospital_ambience_monitor', dev_id='lora_feature_6', hardware_serial='00A42CEEFD4DAC74', port=1, counter=16, payload_raw='CPwX1AY=', payload_fields=MSG(celcius=23, device=6, moisture=61), metadata=MSG(time='2018-10-11T12:49:35.159572253Z', frequency=868.5, modulation='LORA', data_rate='SF9BW125', airtime=185344000, coding_rate='4/5', gateways=[MSG(gtw_id='eui-b827ebfefe5909d4', timestamp=3968147956, time='', channel=2, rssi=-25, snr=8.8, rf_chain=1)]))\n",
      "Received uplink from  lora_feather_4\n",
      "MSG(app_id='hospital_ambience_monitor', dev_id='lora_feather_4', hardware_serial='004B7B370F4C9F97', port=1, counter=30, payload_raw='CPwX1AQ=', payload_fields=MSG(celcius=23, device=4, moisture=61), metadata=MSG(time='2018-10-11T12:50:00.083827099Z', frequency=868.5, modulation='LORA', data_rate='SF9BW125', airtime=185344000, coding_rate='4/5', gateways=[MSG(gtw_id='eui-b827ebfefe5909d4', timestamp=3993045780, time='', channel=2, rssi=-67, snr=8.8, rf_chain=1)]))\n",
      "Received uplink from Received uplink from  lora_feather_4\n",
      "MSG(app_id='hospital_ambience_monitor', dev_id='lora_feather_4', hardware_serial='004B7B370F4C9F97', port=1, counter=30, payload_raw='CPwX1AQ=', payload_fields=MSG(celcius=23, device=4, moisture=61), metadata=MSG(time='2018-10-11T12:50:00.083827099Z', frequency=868.5, modulation='LORA', data_rate='SF9BW125', airtime=185344000, coding_rate='4/5', gateways=[MSG(gtw_id='eui-b827ebfefe5909d4', timestamp=3993045780, time='', channel=2, rssi=-67, snr=8.8, rf_chain=1)]))\n",
      " lora_feather_4\n",
      "MSG(app_id='hospital_ambience_monitor', dev_id='lora_feather_4', hardware_serial='004B7B370F4C9F97', port=1, counter=30, payload_raw='CPwX1AQ=', payload_fields=MSG(celcius=23, device=4, moisture=61), metadata=MSG(time='2018-10-11T12:50:00.083827099Z', frequency=868.5, modulation='LORA', data_rate='SF9BW125', airtime=185344000, coding_rate='4/5', gateways=[MSG(gtw_id='eui-b827ebfefe5909d4', timestamp=3993045780, time='', channel=2, rssi=-67, snr=8.8, rf_chain=1)]))\n"
     ]
    }
   ],
   "source": [
    "device_list[x.dev_id]"
   ]
  },
  {
   "cell_type": "code",
   "execution_count": null,
   "metadata": {},
   "outputs": [],
   "source": []
  }
 ],
 "metadata": {
  "kernelspec": {
   "display_name": "Python 3",
   "language": "python",
   "name": "python3"
  },
  "language_info": {
   "codemirror_mode": {
    "name": "ipython",
    "version": 3
   },
   "file_extension": ".py",
   "mimetype": "text/x-python",
   "name": "python",
   "nbconvert_exporter": "python",
   "pygments_lexer": "ipython3",
   "version": "3.6.4"
  }
 },
 "nbformat": 4,
 "nbformat_minor": 2
}
